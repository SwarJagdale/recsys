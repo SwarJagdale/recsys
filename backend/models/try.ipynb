{
 "cells": [
  {
   "cell_type": "code",
   "execution_count": 49,
   "metadata": {},
   "outputs": [],
   "source": [
    "# Cell 1: Imports and Sigmoid\n",
    "import numpy as np\n",
    "import pandas as pd\n",
    "\n",
    "def sigmoid(x):\n",
    "    return 1 / (1 + np.exp(-x))\n"
   ]
  },
  {
   "cell_type": "code",
   "execution_count": 53,
   "metadata": {},
   "outputs": [],
   "source": [
    "# Cell 2: MatrixFactorization Class\n",
    "class MatrixFactorization:\n",
    "    def __init__(self, n_users, n_items, n_factors=20, lr=0.01, reg=0.1, epochs=20):\n",
    "        self.n_users = n_users\n",
    "        self.n_items = n_items\n",
    "        self.n_factors = n_factors\n",
    "        self.lr = lr\n",
    "        self.reg = reg\n",
    "        self.epochs = epochs\n",
    "        self.user_factors = np.random.normal(scale=0.1, size=(n_users, n_factors))\n",
    "        self.item_factors = np.random.normal(scale=0.1, size=(n_items, n_factors))\n",
    "\n",
    "    def _sgd_update(self, u, i):\n",
    "        pred = sigmoid(self.user_factors[u].dot(self.item_factors[i]))\n",
    "        err = 1 - pred\n",
    "        grad_u = err * self.item_factors[i] - self.reg * self.user_factors[u]\n",
    "        grad_i = err * self.user_factors[u] - self.reg * self.item_factors[i]\n",
    "        self.user_factors[u] += self.lr * grad_u\n",
    "        self.item_factors[i] += self.lr * grad_i\n",
    "\n",
    "    def train(self, interactions):\n",
    "        for epoch in range(self.epochs):\n",
    "            np.random.shuffle(interactions)\n",
    "            for u, i in interactions:\n",
    "                self._sgd_update(u, i)\n",
    "\n",
    "    def recommend(self, u, k=9, interacted=set()):\n",
    "        scores = sigmoid(self.item_factors.dot(self.user_factors[u]))\n",
    "        scores[list(interacted)] = -np.inf\n",
    "        top_k = np.argpartition(-scores, k)[:k]\n",
    "        return top_k[np.argsort(-scores[top_k])]\n",
    "\n",
    "    def update_one(self, u, i, interacted_update):\n",
    "        self._sgd_update(u, i)\n",
    "        if u in interacted_update:\n",
    "            interacted_update[u].add(i)\n",
    "        else:\n",
    "            interacted_update[u] = {i}\n"
   ]
  },
  {
   "cell_type": "code",
   "execution_count": 54,
   "metadata": {},
   "outputs": [],
   "source": [
    "# Cell 3: ID Mapping Utilities\n",
    "def map_ids(df, user_col, item_col):\n",
    "    unique_users = df[user_col].unique()\n",
    "    unique_items = df[item_col].unique()\n",
    "    user2idx = {u: idx for idx, u in enumerate(unique_users)}\n",
    "    item2idx = {i: idx for idx, i in enumerate(unique_items)}\n",
    "    return user2idx, item2idx\n"
   ]
  },
  {
   "cell_type": "code",
   "execution_count": null,
   "metadata": {},
   "outputs": [],
   "source": [
    "\n",
    "users_df = pd.read_csv(r'D:\\Code\\RecSysProj\\data\\users.csv')\n",
    "products_df = pd.read_csv(r'D:\\Code\\RecSysProj\\data\\products.csv')\n",
    "interactions_df = pd.read_csv(r'D:\\Code\\RecSysProj\\data\\interactions.csv')"
   ]
  },
  {
   "cell_type": "code",
   "execution_count": 55,
   "metadata": {},
   "outputs": [],
   "source": [
    "# Cell 4: Example Initial Setup\n",
    "user2idx, item2idx = map_ids(interactions_df, 'user_id', 'product_id')\n",
    "idx2user = {idx: u for u, idx in user2idx.items()}\n",
    "idx2item = {idx: i for i, idx in item2idx.items()}\n",
    "\n",
    "interactions = [(user2idx[r.user_id], item2idx[r.product_id]) for r in interactions_df.itertuples()]\n",
    "user_interacted = interactions_df.groupby('user_id')['product_id'].apply(set).to_dict()\n",
    "user_interacted_idx = {user2idx[u]: {item2idx[i] for i in items} for u, items in user_interacted.items()}\n",
    "\n",
    "mf = MatrixFactorization(n_users=len(user2idx), n_items=len(item2idx),\n",
    "                         n_factors=50, lr=0.01, reg=0.1, epochs=30)\n",
    "mf.train(interactions)\n"
   ]
  },
  {
   "cell_type": "code",
   "execution_count": 56,
   "metadata": {},
   "outputs": [
    {
     "name": "stdout",
     "output_type": "stream",
     "text": [
      "[449, 256, 52, 241, 337, 156, 184, 366, 139]\n"
     ]
    }
   ],
   "source": [
    "# Cell 5: Recommend for a User\n",
    "u_idx = user2idx[123]\n",
    "rec_idxs = mf.recommend(u_idx, k=9, interacted=user_interacted_idx.get(u_idx, set()))\n",
    "recommendations = [idx2item[i] for i in rec_idxs]\n",
    "print(recommendations)\n"
   ]
  },
  {
   "cell_type": "code",
   "execution_count": null,
   "metadata": {},
   "outputs": [],
   "source": [
    "# Cell 6: Incremental Update Example\n",
    "# Suppose new_interactions_df = pd.read_csv('new_interactions.csv')\n",
    "new_interactions = [(user2idx[r.user_id], item2idx[r.product_id]) \n",
    "                    for r in new_interactions_df.itertuples()]\n",
    "mf.update(new_interactions, user_interacted_idx)\n",
    "\n",
    "# Re-run recommendation:\n",
    "rec_idxs = mf.recommend(u_idx, k=9, interacted=user_interacted_idx.get(u_idx, set()))\n",
    "recommendations = [idx2item[i] for i in rec_idxs]\n",
    "print(recommendations)\n"
   ]
  },
  {
   "cell_type": "code",
   "execution_count": 61,
   "metadata": {},
   "outputs": [
    {
     "name": "stdout",
     "output_type": "stream",
     "text": [
      "[449, 256, 52, 337, 156, 241, 184, 139, 366]\n"
     ]
    }
   ],
   "source": [
    "# Cell 6: Adding Single New Interaction\n",
    "# Suppose new interaction (user 123 viewed product 456)\n",
    "\n",
    "new_user_id = 123\n",
    "new_product_id = 456\n",
    "\n",
    "# Map to indices\n",
    "u_idx = user2idx[new_user_id]\n",
    "i_idx = item2idx[new_product_id]\n",
    "\n",
    "# Update model immediately\n",
    "mf.update_one(u_idx, i_idx, user_interacted_idx)\n",
    "\n",
    "# Now recommend again\n",
    "rec_idxs = mf.recommend(u_idx, k=9, interacted=user_interacted_idx.get(u_idx, set()))\n",
    "new_recommendations = [idx2item[i] for i in rec_idxs]\n",
    "print(new_recommendations)\n"
   ]
  },
  {
   "cell_type": "code",
   "execution_count": 62,
   "metadata": {},
   "outputs": [
    {
     "name": "stdout",
     "output_type": "stream",
     "text": [
      "[449, 256, 52, 337, 184, 156, 139, 241, 408]\n"
     ]
    }
   ],
   "source": [
    "#calculate even_new_recommendations with dummy interactions\n",
    "\n",
    "even_new_product_id= 456\n",
    "\n",
    "# Map to indices\n",
    "i_idx = item2idx[even_new_product_id]\n",
    "\n",
    "# Update model immediately\n",
    "mf.update_one(u_idx, i_idx, user_interacted_idx)\n",
    "\n",
    "mf.update_one(u_idx, i_idx, user_interacted_idx)\n",
    "\n",
    "mf.update_one(u_idx, i_idx, user_interacted_idx)\n",
    "\n",
    "mf.update_one(u_idx, i_idx, user_interacted_idx)\n",
    "# Now recommend again\n",
    "rec_idxs = mf.recommend(u_idx, k=9, interacted=user_interacted_idx.get(u_idx, set()))\n",
    "even_new_recommendations = [idx2item[i] for i in rec_idxs]\n",
    "print(even_new_recommendations)\n"
   ]
  },
  {
   "cell_type": "code",
   "execution_count": 63,
   "metadata": {},
   "outputs": [
    {
     "data": {
      "text/plain": [
       "False"
      ]
     },
     "execution_count": 63,
     "metadata": {},
     "output_type": "execute_result"
    }
   ],
   "source": [
    "even_new_recommendations==new_recommendations"
   ]
  },
  {
   "cell_type": "code",
   "execution_count": null,
   "metadata": {},
   "outputs": [],
   "source": []
  }
 ],
 "metadata": {
  "kernelspec": {
   "display_name": "Python 3",
   "language": "python",
   "name": "python3"
  },
  "language_info": {
   "codemirror_mode": {
    "name": "ipython",
    "version": 3
   },
   "file_extension": ".py",
   "mimetype": "text/x-python",
   "name": "python",
   "nbconvert_exporter": "python",
   "pygments_lexer": "ipython3",
   "version": "3.11.5"
  }
 },
 "nbformat": 4,
 "nbformat_minor": 2
}
